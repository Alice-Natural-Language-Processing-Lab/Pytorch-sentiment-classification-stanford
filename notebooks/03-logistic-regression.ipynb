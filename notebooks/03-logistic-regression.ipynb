{
 "cells": [
  {
   "cell_type": "code",
   "execution_count": 8,
   "metadata": {},
   "outputs": [],
   "source": [
    "import torchtext\n",
    "import torch\n",
    "import torch.nn as nn\n",
    "from torch.autograd import Variable\n",
    "import matplotlib.pyplot as plt\n",
    "import numpy as np\n",
    "from torchtext.vocab import Vectors\n",
    "from tqdm import tqdm_notebook"
   ]
  },
  {
   "cell_type": "code",
   "execution_count": 9,
   "metadata": {},
   "outputs": [],
   "source": [
    "text = torchtext.data.Field(include_lengths = False)\n",
    "label = torchtext.data.Field(sequential=False)\n",
    "train, val, test = torchtext.datasets.SST.splits(text, label, filter_pred=lambda ex: ex.label != 'neutral')\n",
    "text.build_vocab(train)\n",
    "label.build_vocab(train)\n",
    "train_iter, val_iter, test_iter = torchtext.data.BucketIterator.splits((train, val, test), batch_size=10, device=-1, repeat = False)\n",
    "# Build the vocabulary with word embeddings\n",
    "url = 'https://s3-us-west-1.amazonaws.com/fasttext-vectors/wiki.simple.vec'\n",
    "text.vocab.load_vectors(vectors=Vectors('wiki.simple.vec', url=url))"
   ]
  },
  {
   "cell_type": "code",
   "execution_count": 27,
   "metadata": {},
   "outputs": [],
   "source": [
    "class LogisticRegression(nn.Module):\n",
    "    def __init__(self, input_size, num_classes, batch_size):\n",
    "        super(LogisticRegression, self).__init__()\n",
    "        self.linear = nn.Linear(input_size, num_classes, bias = True)\n",
    "        self.array_like = np.zeros((batch_size, input_size))\n",
    "    \n",
    "    def forward(self, x):\n",
    "        output = self.linear(x)\n",
    "        activated = torch.nn.functional.sigmoid(output)\n",
    "        return activated\n",
    "\n",
    "    def predict(self, x):\n",
    "        output = self.forward(x)\n",
    "        logits = torch.nn.functional.log_softmax(output, dim = 1)\n",
    "        return logits.max(1)[1] + 1\n",
    "\n",
    "    def binarize_occurrences(self, indices):\n",
    "        occurrences = self.array_like.copy()\n",
    "        for idx, entry in enumerate(indices): occurrences[idx][entry] = 1\n",
    "        return occurrences\n",
    "\n",
    "    def batch_to_input(self, batch, train = True):\n",
    "        word_indices = batch.text.data.numpy().T\n",
    "        x = self.binarize_occurrences(word_indices)\n",
    "        if train:\n",
    "            return Variable(torch.FloatTensor(x)), batch.label\n",
    "        else:\n",
    "            return Variable(torch.FloatTensor(x))\n",
    "    \n",
    "    def train(self, train_iter, val_iter, num_epochs, learning_rate = 1e-3):\n",
    "        criterion = torch.nn.NLLLoss()\n",
    "        optimizer = torch.optim.Adam(model.parameters(), lr = learning_rate)\n",
    "        loss_vec = []\n",
    "        \n",
    "        for epoch in range(1, num_epochs+1):\n",
    "            epoch_loss = 0\n",
    "            for batch in train_iter:\n",
    "                x, y = self.batch_to_input(batch, train = True)\n",
    "                \n",
    "                optimizer.zero_grad()\n",
    "                \n",
    "                output = self.forward(x)\n",
    "                \n",
    "                loss = criterion(output, y-1)\n",
    "                loss.backward()\n",
    "                \n",
    "                optimizer.step()\n",
    "                epoch_loss += loss.data[0]\n",
    "            self.model = model\n",
    "            \n",
    "            loss_vec.append(epoch_loss / len(train_iter))\n",
    "            if epoch % 1 == 0:\n",
    "                acc = self.validate(val_iter)\n",
    "                print('Epoch {} loss: {} | Valid acc: {}'.format(epoch, loss_vec[epoch-1], acc))\n",
    "        \n",
    "        plt.plot(range(len(loss_vec)), loss_vec)\n",
    "        plt.xlabel('Epoch')\n",
    "        plt.ylabel('Loss')\n",
    "        plt.show()\n",
    "        print('\\nModel trained.\\n')\n",
    "        self.loss_vec = loss_vec\n",
    "\n",
    "    def test(self, test_iter):\n",
    "        \"All models should be able to be run with following command.\"\n",
    "        upload, trues = [], []\n",
    "        # Update: for kaggle the bucket iterator needs to have batch_size 10\n",
    "        for batch in test_iter:\n",
    "            # Your prediction data here (don't cheat!)\n",
    "            x, y = self.batch_to_input(batch, train = False), batch.label\n",
    "            preds = self.predict(x)\n",
    "            upload += list(preds.data.numpy())\n",
    "            trues += list(y.data.numpy())\n",
    "            \n",
    "        correct = sum([1 if i == j else 0 for i, j in zip(upload, trues)])\n",
    "        accuracy = correct / len(trues)\n",
    "        print('Test Accuracy:', accuracy)\n",
    "        \n",
    "        with open(\"predictions.txt\", \"w\") as f:\n",
    "            for u in upload:\n",
    "                f.write(str(u) + \"\\n\")\n",
    "                \n",
    "    def validate(self, val_iter):\n",
    "        y_p, y_t, correct = [], [], 0\n",
    "        for batch in val_iter:\n",
    "            x, y = self.batch_to_input(batch, train = False), batch.label\n",
    "            probs = self.model.predict(x)[:len(y.data.numpy())]\n",
    "            y_p += list(probs.data.numpy())\n",
    "            y_t += list(y.data.numpy())\n",
    "        correct = sum([1 if i == j else 0 for i, j in zip(y_p, y_t)])\n",
    "        accuracy = correct / len(y_p)\n",
    "        return accuracy"
   ]
  },
  {
   "cell_type": "code",
   "execution_count": 28,
   "metadata": {},
   "outputs": [
    {
     "name": "stderr",
     "output_type": "stream",
     "text": [
      "/Users/sob/Desktop/cs287/homework1/env/lib/python3.6/site-packages/ipykernel_launcher.py:37: DeprecationWarning: generator 'Iterator.__iter__' raised StopIteration\n",
      "/Users/sob/Desktop/cs287/homework1/env/lib/python3.6/site-packages/ipykernel_launcher.py:84: DeprecationWarning: generator 'Iterator.__iter__' raised StopIteration\n"
     ]
    },
    {
     "name": "stdout",
     "output_type": "stream",
     "text": [
      "Epoch 1 loss: -0.8179293963950494 | Valid acc: 0.7729357798165137\n",
      "Epoch 2 loss: -0.9585080772982857 | Valid acc: 0.7694954128440367\n",
      "Epoch 3 loss: -0.9794496852538489 | Valid acc: 0.7706422018348624\n",
      "Epoch 4 loss: -0.9876801081303227 | Valid acc: 0.7752293577981652\n",
      "Epoch 5 loss: -0.9917574881473717 | Valid acc: 0.7821100917431193\n"
     ]
    },
    {
     "data": {
      "image/png": "[encoded data removed]",
      "text/plain": [
       "<matplotlib.figure.Figure at 0x1233e5e10>"
      ]
     },
     "metadata": {},
     "output_type": "display_data"
    },
    {
     "name": "stdout",
     "output_type": "stream",
     "text": [
      "\n",
      "Model trained.\n",
      "\n",
      "Test Accuracy: 0.7781438769906645\n"
     ]
    },
    {
     "name": "stderr",
     "output_type": "stream",
     "text": [
      "/Users/sob/Desktop/cs287/homework1/env/lib/python3.6/site-packages/ipykernel_launcher.py:67: DeprecationWarning: generator 'Iterator.__iter__' raised StopIteration\n"
     ]
    }
   ],
   "source": [
    "model = LogisticRegression(len(text.vocab), 2, 10)\n",
    "model.train(train_iter = train_iter, val_iter = val_iter, num_epochs = 5,  learning_rate = 1e-3)\n",
    "model.test(test_iter)"
   ]
  }
 ],
 "metadata": {
  "kernelspec": {
   "display_name": "Python 3",
   "language": "python",
   "name": "python3"
  },
  "language_info": {
   "codemirror_mode": {
    "name": "ipython",
    "version": 3
   },
   "file_extension": ".py",
   "mimetype": "text/x-python",
   "name": "python",
   "nbconvert_exporter": "python",
   "pygments_lexer": "ipython3",
   "version": "3.6.4"
  }
 },
 "nbformat": 4,
 "nbformat_minor": 2
}
